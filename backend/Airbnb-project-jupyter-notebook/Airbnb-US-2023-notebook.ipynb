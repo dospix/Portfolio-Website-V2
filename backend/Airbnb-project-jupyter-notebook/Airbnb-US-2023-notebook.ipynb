{
 "cells": [
  {
   "cell_type": "code",
   "execution_count": null,
   "id": "be3e7e22",
   "metadata": {},
   "outputs": [],
   "source": [
    "import pandas as pd\n",
    "import numpy as np"
   ]
  },
  {
   "cell_type": "code",
   "execution_count": null,
   "id": "f45755d6",
   "metadata": {
    "scrolled": false
   },
   "outputs": [],
   "source": [
    "df = pd.read_csv(\"./Airbnb-US-2023.csv\")\n",
    "df.head()"
   ]
  },
  {
   "cell_type": "markdown",
   "id": "2c34a3e3",
   "metadata": {},
   "source": [
    "## Visualizing the locations\n",
    "### Use the output of the function below with google my maps to plot a number of locations unto a map"
   ]
  },
  {
   "cell_type": "code",
   "execution_count": null,
   "id": "a4faf023",
   "metadata": {},
   "outputs": [],
   "source": [
    "def export_locations_to_google_my_maps(dataframe, number_of_locations = 10000):\n",
    "    \"\"\"Extracts latitude, longitude and name from the dataframe provided.\n",
    "    The locations are reduced until their number is close to number_of_locations.\n",
    "    The result is grouped based on room_type, each group is exported to multiple csv files of max length = 2000.\n",
    "    These are to be imported on Google My Maps for plotting.\"\"\"\n",
    "    \n",
    "    dataframe = dataframe[[\"latitude\", \"longitude\", \"name\", \"room_type\"]]\n",
    "    \n",
    "    entire_apartment_df = dataframe[dataframe[\"room_type\"] == \"Entire home/apt\"].drop(\"room_type\", axis=1)\n",
    "    private_room_df = dataframe[dataframe[\"room_type\"] == \"Private room\"].drop(\"room_type\", axis=1)\n",
    "    shared_room_df = dataframe[dataframe[\"room_type\"] == \"Shared room\"].drop(\"room_type\", axis=1)\n",
    "    hotel_room_df = dataframe[dataframe[\"room_type\"] == \"Hotel room\"].drop(\"room_type\", axis=1)\n",
    "    \n",
    "    locations_to_eliminate = len(dataframe) - number_of_locations\n",
    "    entire_apartment_ratio = len(entire_apartment_df) / len(dataframe)\n",
    "    private_room_ratio = len(private_room_df) / len(dataframe)\n",
    "    shared_room_ratio = len(shared_room_df) / len(dataframe)\n",
    "    hotel_room_ratio = len(hotel_room_df) / len(dataframe)\n",
    "    \n",
    "    entire_apartment_locations_to_delete = int(entire_apartment_ratio * locations_to_eliminate)\n",
    "    private_room_locations_to_delete = int(private_room_ratio * locations_to_eliminate)\n",
    "    shared_room_locations_to_delete = int(shared_room_ratio * locations_to_eliminate)\n",
    "    hotel_room_locations_to_delete = int(hotel_room_ratio * locations_to_eliminate)\n",
    "    \n",
    "    entire_apartment_locations_to_keep = len(entire_apartment_df) - entire_apartment_locations_to_delete\n",
    "    private_room_locations_to_keep = len(private_room_df) - private_room_locations_to_delete\n",
    "    shared_room_locations_to_keep = len(shared_room_df) - shared_room_locations_to_delete\n",
    "    hotel_room_locations_to_keep = len(hotel_room_df) - hotel_room_locations_to_delete\n",
    "    \n",
    "    entire_apartment_df_shortened = entire_apartment_df.sample(entire_apartment_locations_to_keep)\n",
    "    private_room_df_shortened = private_room_df.sample(private_room_locations_to_keep)\n",
    "    shared_room_df_shortened = shared_room_df.sample(shared_room_locations_to_keep)\n",
    "    hotel_room_df_shortened = hotel_room_df.sample(hotel_room_locations_to_keep)\n",
    "    \n",
    "    entire_apartment_dfs = np.array_split(entire_apartment_df_shortened, len(entire_apartment_df_shortened) // 2000 + 1)\n",
    "    for i, df_chunk in enumerate(entire_apartment_dfs):\n",
    "        df_chunk.to_csv(f\"google-my-maps-csvs/apartment{i}.csv\")\n",
    "    \n",
    "    private_room_dfs = np.array_split(private_room_df_shortened, len(private_room_df_shortened) // 2000 + 1)\n",
    "    for i, df_chunk in enumerate(private_room_dfs):\n",
    "        df_chunk.to_csv(f\"google-my-maps-csvs/private{i}.csv\")\n",
    "    \n",
    "    shared_room_dfs = np.array_split(shared_room_df_shortened, len(shared_room_df_shortened) // 2000 + 1)\n",
    "    for i, df_chunk in enumerate(shared_room_dfs):\n",
    "        df_chunk.to_csv(f\"google-my-maps-csvs/shared{i}.csv\")\n",
    "    \n",
    "    hotel_room_dfs = np.array_split(hotel_room_df_shortened, len(hotel_room_df_shortened) // 2000 + 1)\n",
    "    for i, df_chunk in enumerate(hotel_room_dfs):\n",
    "        df_chunk.to_csv(f\"google-my-maps-csvs/hotel{i}.csv\")"
   ]
  },
  {
   "cell_type": "markdown",
   "id": "aac55520",
   "metadata": {},
   "source": [
    "## Cleaning the data\n",
    "### Removing duplicates and irrelevant columns"
   ]
  },
  {
   "cell_type": "code",
   "execution_count": null,
   "id": "6c9b8c6e",
   "metadata": {},
   "outputs": [],
   "source": [
    "df = df.drop([\"id\"], axis=1)\n",
    "df = df.drop_duplicates()\n",
    "df = df.drop([\"name\", \"host_id\", \"host_name\", \"latitude\", \"longitude\"], axis=1)"
   ]
  },
  {
   "cell_type": "markdown",
   "id": "bb4ad61b",
   "metadata": {},
   "source": [
    "### Dealing with missing values and outliers"
   ]
  },
  {
   "cell_type": "code",
   "execution_count": null,
   "id": "8b6ae120",
   "metadata": {},
   "outputs": [],
   "source": [
    "df.describe()"
   ]
  },
  {
   "cell_type": "code",
   "execution_count": null,
   "id": "92b18f72",
   "metadata": {},
   "outputs": [],
   "source": [
    "df = df[df.price <= 1250]\n",
    "df = df[df.minimum_nights <= 62]\n",
    "df = df[df.calculated_host_listings_count <= 150]\n",
    "len(df)"
   ]
  },
  {
   "cell_type": "code",
   "execution_count": null,
   "id": "69e1dfe9",
   "metadata": {},
   "outputs": [],
   "source": [
    "df[df.calculated_host_listings_count > 100]"
   ]
  },
  {
   "cell_type": "code",
   "execution_count": null,
   "id": "c6921e41",
   "metadata": {},
   "outputs": [],
   "source": [
    "df.describe()"
   ]
  },
  {
   "cell_type": "code",
   "execution_count": null,
   "id": "d296a135",
   "metadata": {},
   "outputs": [],
   "source": [
    "df.number_of_reviews.describe()"
   ]
  }
 ],
 "metadata": {
  "kernelspec": {
   "display_name": "Python 3 (ipykernel)",
   "language": "python",
   "name": "python3"
  },
  "language_info": {
   "codemirror_mode": {
    "name": "ipython",
    "version": 3
   },
   "file_extension": ".py",
   "mimetype": "text/x-python",
   "name": "python",
   "nbconvert_exporter": "python",
   "pygments_lexer": "ipython3",
   "version": "3.11.0"
  }
 },
 "nbformat": 4,
 "nbformat_minor": 5
}
